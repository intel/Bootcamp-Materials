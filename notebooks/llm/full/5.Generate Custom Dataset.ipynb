{
 "cells": [
  {
   "cell_type": "markdown",
   "id": "422621b4-a6f1-4d5f-b473-da9d8e528b5f",
   "metadata": {},
   "source": [
    "## Fine-tune with Custom Dataset"
   ]
  },
  {
   "cell_type": "code",
   "execution_count": null,
   "id": "bee36923-2042-46ee-95eb-268bfd205a79",
   "metadata": {},
   "outputs": [],
   "source": [
    "import re\n",
    "import requests\n",
    "import torch\n",
    "import json\n",
    "\n",
    "from tqdm import tqdm\n",
    "from bs4 import BeautifulSoup\n",
    "from pprint import pprint\n",
    "\n",
    "import intel_extension_for_pytorch as ipex\n",
    "import transformers\n",
    "\n",
    "from transformers import AutoTokenizer\n",
    "from peft import LoraConfig\n",
    "from bigdl.llm.transformers.qlora import get_peft_model, prepare_model_for_kbit_training, PeftModel\n",
    "from bigdl.llm.transformers import AutoModelForCausalLM\n",
    "from datasets import load_dataset"
   ]
  },
  {
   "cell_type": "markdown",
   "id": "8b07c4a7-bf28-4529-a465-7524c509b9ce",
   "metadata": {},
   "source": [
    "<img src=\"imgs/finetune_pipe.png\" width=\"800\" />"
   ]
  },
  {
   "cell_type": "markdown",
   "id": "9f802129-41fd-4ee3-8970-fef30d8a9c6c",
   "metadata": {},
   "source": [
    "# Custom Data Preparation"
   ]
  },
  {
   "cell_type": "markdown",
   "id": "eaac0a35-e005-429e-8af0-49f9540791ae",
   "metadata": {},
   "source": [
    "### 1. Web Data Scraping"
   ]
  },
  {
   "cell_type": "code",
   "execution_count": null,
   "id": "f825a153-80a1-41ae-b44f-083721206e29",
   "metadata": {},
   "outputs": [],
   "source": [
    "page = requests.get(\"https://www.intel.com/content/www/us/en/support/products/96066/software/development-software/openvino-toolkit.html\")"
   ]
  },
  {
   "cell_type": "code",
   "execution_count": null,
   "id": "998e8c33-5cfb-43b7-8e55-e71d4622aafe",
   "metadata": {},
   "outputs": [],
   "source": [
    "articles = re.findall(\"\\\"/content/www/us/en/support/articles/[0-9]+/[\\w]+\\\"\", page.text)\n",
    "links = []\n",
    "for article in articles:\n",
    "    article = article.replace(\"\\\"\", \"\")\n",
    "    link = f\"https://www.intel.com{article}.html\"\n",
    "    links.append(link)\n",
    "pprint(links[:10])"
   ]
  },
  {
   "cell_type": "code",
   "execution_count": null,
   "id": "6f6bdb5d-bda2-4ff1-a9cc-bffbff1d7352",
   "metadata": {},
   "outputs": [],
   "source": [
    "contents = []\n",
    "pages = []\n",
    "for link in tqdm(links):\n",
    "    page = requests.get(link)\n",
    "    pages.append(page)\n",
    "\n",
    "for page in tqdm(pages[:20]):\n",
    "    soup = BeautifulSoup(page.text, \"html.parser\")\n",
    "    title = soup.find('h1').text\n",
    "    article = soup.find('div', { 'class': 'article-content' })\n",
    "    summary = article.find('div', { 'class': 'article-intro' }).get_text(strip=True).replace(\"Summary\", \"\")\n",
    "    content = article.find('div', { 'id': 'resolution' }).get_text()[len(\"Resolution\")+1:].replace(\"\\xa0\", \" \").replace(\"\\n\",\"\")\n",
    "    contents.append({ \"title\": title, \"summary\": summary, \"content\": content})\n",
    "    \n",
    "pprint(contents, width=240, indent=4)"
   ]
  },
  {
   "cell_type": "markdown",
   "id": "c4e3f669-5718-4671-8c6f-14b9577b1712",
   "metadata": {},
   "source": [
    "### 2. Generate Synthetic Dataset"
   ]
  },
  {
   "cell_type": "code",
   "execution_count": null,
   "id": "b754ad2f-fa5b-424a-bd46-1025151e9dcc",
   "metadata": {},
   "outputs": [],
   "source": [
    "model_path = \"mistralai/Mistral-7B-Instruct-v0.1\"\n",
    "model = AutoModelForCausalLM.from_pretrained(model_path, load_in_4bit=True, trust_remote_code=True)\n",
    "tokenizer = AutoTokenizer.from_pretrained(model_path, trust_remote_code=True)\n",
    "device = \"xpu\"\n",
    "model = model.to(device)"
   ]
  },
  {
   "cell_type": "markdown",
   "id": "712076f5-48df-4dd2-a952-c8ff6b4b0550",
   "metadata": {},
   "source": [
    "### 3. Using LLM to Generate More Questions"
   ]
  },
  {
   "cell_type": "code",
   "execution_count": null,
   "id": "a662aa4e-84d6-4c70-a948-e326e2bff34e",
   "metadata": {},
   "outputs": [],
   "source": [
    "# MISTRAL_PROMPT_FORMAT = \"\"\"<s>[INST]\n",
    "# Turn the following sentence into a question.\n",
    "# {sentence}\n",
    "# [/INST]\"\"\"\n",
    "\n",
    "# content = contents[0]\n",
    "# sentence = content['title']\n",
    "\n",
    "# results = []\n",
    "# for content in tqdm(contents):\n",
    "#     sentence = content['title']\n",
    "#     with torch.inference_mode():\n",
    "#         prompt = MISTRAL_PROMPT_FORMAT.format(sentence=sentence)\n",
    "#         input_ids = tokenizer.encode(prompt, return_tensors=\"pt\").to(device)\n",
    "#         output = model.generate(input_ids, max_new_tokens=128, pad_token_id=tokenizer.eos_token_id)\n",
    "#         torch.xpu.synchronize()\n",
    "#         output = output.cpu()\n",
    "#         output_str = tokenizer.decode(output[0], skip_special_tokens=True)\n",
    "#         result = output_str.split(\"[/INST]\")\n",
    "\n",
    "#         lines = result[1].strip().split(\"\\n\")\n",
    "#         results.append({ \"question\": lines[0], \"answer\": content[\"content\"] })\n",
    "# results"
   ]
  },
  {
   "cell_type": "code",
   "execution_count": null,
   "id": "e947abbc-45b3-4151-9f3b-c3d2aa71eeca",
   "metadata": {},
   "outputs": [],
   "source": [
    "MISTRAL_PROMPT_FORMAT = \"\"\"<s>[INST]\n",
    "Turn the following sentence into 3 different questions.\n",
    "{sentence}\n",
    "[/INST]\"\"\"\n",
    "\n",
    "content = contents[0]\n",
    "sentence = content['title']\n",
    "\n",
    "results = []\n",
    "for content in tqdm(contents[:10]):\n",
    "    sentence = content['title']\n",
    "    with torch.inference_mode():\n",
    "        prompt = MISTRAL_PROMPT_FORMAT.format(sentence=sentence)\n",
    "        input_ids = tokenizer.encode(prompt, return_tensors=\"pt\").to(device)\n",
    "        output = model.generate(input_ids, max_new_tokens=128, pad_token_id=tokenizer.eos_token_id)\n",
    "        torch.xpu.synchronize()\n",
    "        output = output.cpu()\n",
    "        output_str = tokenizer.decode(output[0], skip_special_tokens=True)\n",
    "        result = output_str.split(\"[/INST]\")\n",
    "        \n",
    "        lines = result[1].strip().split(\"\\n\")\n",
    "        for idx, line in enumerate(lines):\n",
    "            cleaned_line = lines[idx] = line[2:].strip()\n",
    "            results.append({ \"question\": cleaned_line, \"answer\": content[\"content\"] })\n",
    "results"
   ]
  },
  {
   "cell_type": "code",
   "execution_count": null,
   "id": "c816fc84-198b-48cc-bee6-e201cb441566",
   "metadata": {},
   "outputs": [],
   "source": [
    "import pickle\n",
    "with open('outputs/custom_data.pickle', 'wb') as handle:\n",
    "    pickle.dump(results, handle, protocol=pickle.HIGHEST_PROTOCOL)"
   ]
  },
  {
   "cell_type": "markdown",
   "id": "e6016d93",
   "metadata": {},
   "source": [
    "## Notices & Disclaimers \n",
    "\n",
    "Intel technologies may require enabled hardware, software or service activation. \n",
    "\n",
    "No product or component can be absolutely secure.  \n",
    "\n",
    "Your costs and results may vary.  \n",
    "\n",
    "No license (express or implied, by estoppel or otherwise) to any intellectual property rights is granted by this document, with the sole exception that code included in this document is licensed subject to the Zero-Clause BSD open source license (0BSD), Open Source Initiative. No rights are granted to create modifications or derivatives of this document. \n",
    "\n",
    "© Intel Corporation.  Intel, the Intel logo, and other Intel marks are trademarks of Intel Corporation or its subsidiaries.  Other names and brands may be claimed as the property of others.  "
   ]
  }
 ],
 "metadata": {
  "kernelspec": {
   "display_name": "Python 3 (ipykernel)",
   "language": "python",
   "name": "python3"
  },
  "language_info": {
   "codemirror_mode": {
    "name": "ipython",
    "version": 3
   },
   "file_extension": ".py",
   "mimetype": "text/x-python",
   "name": "python",
   "nbconvert_exporter": "python",
   "pygments_lexer": "ipython3",
   "version": "3.10.12"
  }
 },
 "nbformat": 4,
 "nbformat_minor": 5
}
