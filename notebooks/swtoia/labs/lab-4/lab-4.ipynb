{
 "cells": [
  {
   "cell_type": "markdown",
   "metadata": {},
   "source": [
    "## **Lab 4**\n",
    "\n",
    "### **Overview**\n",
    "\n",
    "This is another CUDA to SYCL migration sample that uses **cuBLAS (CUDA Basic Linear Algebra Subroutine)** libray. The library leverages tensor cores for acceleration of low and mixed precision matrix multiplication.\n",
    "\n",
    "**oneAPI Math Kernel Library (oneMKL)** enhances math routines such as vector, matrix operations from Basic Linear Algebra Subprograms (BLAS) to Linear Algebra Package (LAPACK), fast Fourier transforms (FFT) and random number generator (RNG) functions. The oneMKL supports heterogenous computing functionality via SYCL and OpenMP offload."
   ]
  },
  {
   "cell_type": "markdown",
   "metadata": {},
   "source": [
    "### **Exercise**"
   ]
  },
  {
   "cell_type": "markdown",
   "metadata": {},
   "source": [
    "#### 1) Git clone CUDA Samples"
   ]
  },
  {
   "cell_type": "code",
   "execution_count": null,
   "metadata": {
    "vscode": {
     "languageId": "plaintext"
    }
   },
   "outputs": [],
   "source": [
    "# Note: we have ahead of time git clone cuda-sampels\n",
    "! [ ! -d /app/notebooks/cuda-samples ] && git clone https://github.com/NVIDIA/cuda-samples.git /app/notebooks/cuda-samples"
   ]
  },
  {
   "cell_type": "markdown",
   "metadata": {},
   "source": [
    "#### 2) Make a copy of CUDA sample 'matrixMulCUBLAS' inside lab-4"
   ]
  },
  {
   "cell_type": "code",
   "execution_count": null,
   "metadata": {
    "vscode": {
     "languageId": "plaintext"
    }
   },
   "outputs": [],
   "source": [
    "# Make a fresh copy of CUDA 'matrixMulCUBLAS' sample\n",
    "! [ -d cuda-samples ] && rm -rf cuda-samples\n",
    "! mkdir -p cuda-samples/Samples/4_CUDA_Libraries/\n",
    "! cp -rf /app/notebooks/cuda-samples/Common cuda-samples/\n",
    "! cp -rf /app/notebooks/cuda-samples/Samples/4_CUDA_Libraries/matrixMulCUBLAS  cuda-samples/Samples/4_CUDA_Libraries/"
   ]
  },
  {
   "cell_type": "markdown",
   "metadata": {},
   "source": [
    "**Information:**\n",
    "* cuda-samples/Common - CUDA helper header\n",
    "* matrixMulCUBLAS - a CUDA sample that uses cuBLAS for matrix multiplication."
   ]
  },
  {
   "cell_type": "markdown",
   "metadata": {},
   "source": [
    "#### 3) Review matrixMulCUBLAS.cpp"
   ]
  },
  {
   "cell_type": "code",
   "execution_count": null,
   "metadata": {
    "vscode": {
     "languageId": "plaintext"
    }
   },
   "outputs": [],
   "source": [
    "! cat /app/notebooks/cuda-samples/Samples/4_CUDA_Libraries/matrixMulCUBLAS/matrixMulCUBLAS.cpp"
   ]
  },
  {
   "cell_type": "markdown",
   "metadata": {},
   "source": [
    "#### 4) Use intercept-build to obtain CUDA sample project compilation dependency\n",
    "\n",
    "**Note:** \n",
    "* Jupyter Notebook shell command execution (! \\<bash command\\>) is executed as single sub-process and the process state does not persist to the next ! \\<bash command \\>.\n",
    "* For the sake of convenience of labwork, we use '&&' to perform the task on a specific location."
   ]
  },
  {
   "cell_type": "code",
   "execution_count": null,
   "metadata": {
    "vscode": {
     "languageId": "plaintext"
    }
   },
   "outputs": [],
   "source": [
    "! cd cuda-samples/Samples/4_CUDA_Libraries/matrixMulCUBLAS/ && make clean\n",
    "! cd cuda-samples/Samples/4_CUDA_Libraries/matrixMulCUBLAS/ && intercept-build make"
   ]
  },
  {
   "cell_type": "code",
   "execution_count": null,
   "metadata": {
    "vscode": {
     "languageId": "plaintext"
    }
   },
   "outputs": [],
   "source": [
    "! cd cuda-samples/Samples/4_CUDA_Libraries/matrixMulCUBLAS/ && cat compile_commands.json"
   ]
  },
  {
   "cell_type": "markdown",
   "metadata": {},
   "source": [
    "**Information:**\n",
    "* compile_commands.json - contains CUDA compilation information. \n",
    "* nvcc - CUDA compiler compiles matrixMulCUBLAS.cpp and produce \"matrixMulCUBLAS\" executable."
   ]
  },
  {
   "cell_type": "markdown",
   "metadata": {},
   "source": [
    "#### 5) Use SYCLomatics tool to convert CUDA code to SYCL C++"
   ]
  },
  {
   "cell_type": "code",
   "execution_count": null,
   "metadata": {
    "vscode": {
     "languageId": "plaintext"
    }
   },
   "outputs": [],
   "source": [
    "# If sycl_output exists, we delete it for a fresh 'sycl_output' SYCL conversion\n",
    "! [ -d cuda-samples/Samples/4_CUDA_Libraries/matrixMulCUBLAS/sycl_output ] && rm -rf cuda-samples/Samples/4_CUDA_Libraries/matrixMulCUBLAS/sycl_output\n",
    "! cd cuda-samples/Samples/4_CUDA_Libraries/matrixMulCUBLAS/ && c2s -p compile_commands.json --in-root ../../.. --gen-helper-function --cuda-include-path=/usr/local/cuda-12.1/include --out-root=sycl_output "
   ]
  },
  {
   "cell_type": "markdown",
   "metadata": {},
   "source": [
    "**Information:**\n",
    "* --in-root ../../../ : specify path for all common include files for CUDA sample project, i.e. cuda-samples/\n",
    "* --gen-helper-function : Generate SYCLomatic helper header files to output\n",
    "* --cuda-include-path=<path to CUDA include> : Specify the CUDA include header path.\n",
    "* --out-root=<SYCL output directory> : Specify the SYCL code output\n",
    "\n",
    "**Note:**\n",
    "* oneAPI Base Toolkit version 2023.02 supports CUDA Toolkit version 12.1."
   ]
  },
  {
   "cell_type": "markdown",
   "metadata": {},
   "source": [
    "#### 5) Review the SYCL output "
   ]
  },
  {
   "cell_type": "code",
   "execution_count": null,
   "metadata": {
    "vscode": {
     "languageId": "plaintext"
    }
   },
   "outputs": [],
   "source": [
    "! cd cuda-samples/Samples/4_CUDA_Libraries/matrixMulCUBLAS/ && tree sycl_output"
   ]
  },
  {
   "cell_type": "markdown",
   "metadata": {},
   "source": [
    "**Information:**\n",
    "* MainSourceFile.yaml : CUDA to SYCL conversion log\n",
    "* Common/ : CUDA libary from cuda-samples\n",
    "* include/ : SYCLomatic helpder header\n",
    "* Samples/4_CUDA_Libraries/matrixMulCUBLAS - the SYCL C++ code  "
   ]
  },
  {
   "cell_type": "code",
   "execution_count": null,
   "metadata": {
    "vscode": {
     "languageId": "plaintext"
    }
   },
   "outputs": [],
   "source": [
    "# Check the converted CUDA converted code (matrixMulCUBLAS.cpp.dp.cpp) \n",
    "! cd cuda-samples/Samples/4_CUDA_Libraries/matrixMulCUBLAS && cat sycl_output/Samples/4_CUDA_Libraries/matrixMulCUBLAS/matrixMulCUBLAS.cpp.dp.cpp"
   ]
  },
  {
   "cell_type": "markdown",
   "metadata": {},
   "source": [
    "#### 6) Compile SYCL code using DPC++ compiler"
   ]
  },
  {
   "cell_type": "code",
   "execution_count": null,
   "metadata": {
    "vscode": {
     "languageId": "plaintext"
    }
   },
   "outputs": [],
   "source": [
    "! cd cuda-samples/Samples/4_CUDA_Libraries/matrixMulCUBLAS/sycl_output/Samples/4_CUDA_Libraries/matrixMulCUBLAS/ && icpx -fsycl -I ../../../Common -I ../../../include *.cpp -lmkl_sycl -lmkl_intel_ilp64 -lmkl_sequential -lmkl_core -o matrixMulCUBLAS_prog"
   ]
  },
  {
   "cell_type": "markdown",
   "metadata": {},
   "source": [
    "**Information:**\n",
    "* -lmkl_sycl, -lmkl_intel_ilp64, -lmkl_sequential and -lmkl_core are linked oneMKL libraries.\n",
    "* https://www.intel.com/content/www/us/en/developer/tools/oneapi/onemkl-link-line-advisor.html provides recommended oneMKL linker flag \n"
   ]
  },
  {
   "cell_type": "code",
   "execution_count": null,
   "metadata": {
    "vscode": {
     "languageId": "plaintext"
    }
   },
   "outputs": [],
   "source": [
    "# Check jacob_prog executable file information\n",
    "! file cuda-samples/Samples/4_CUDA_Libraries/matrixMulCUBLAS/sycl_output/Samples/4_CUDA_Libraries/matrixMulCUBLAS/matrixMulCUBLAS_prog"
   ]
  },
  {
   "cell_type": "markdown",
   "metadata": {},
   "source": [
    "#### 9) Run the Matrix Multiplication BLAS SYCL C++ program"
   ]
  },
  {
   "cell_type": "code",
   "execution_count": null,
   "metadata": {
    "vscode": {
     "languageId": "plaintext"
    }
   },
   "outputs": [],
   "source": [
    "! cd cuda-samples/Samples/4_CUDA_Libraries/matrixMulCUBLAS/sycl_output/Samples/4_CUDA_Libraries/matrixMulCUBLAS/ && ./matrixMulCUBLAS_prog"
   ]
  },
  {
   "cell_type": "markdown",
   "metadata": {},
   "source": [
    "### **Conclusion:**\n",
    "\n",
    "* cuBLAS library is converted to use oneMKL library.\n",
    "* When compiling SYCL C++ program that uses oneAPI library, we need to use matching linked libraries -l<oneapi_lib>. "
   ]
  },
  {
   "cell_type": "markdown",
   "metadata": {},
   "source": [
    "**Notices & Disclaimers** \n",
    "\n",
    "Intel technologies may require enabled hardware, software or service activation. \n",
    "\n",
    "No product or component can be absolutely secure.  \n",
    "\n",
    "Your costs and results may vary.  \n",
    "\n",
    "No license (express or implied, by estoppel or otherwise) to any intellectual property rights is granted by this document, with the sole exception that code included in this document is licensed subject to the Zero-Clause BSD open source license (0BSD), [Open Source Initiative](https://opensource.org/licenses/0BSD). No rights are granted to create modifications or derivatives of this document. \n",
    "\n",
    "© Intel Corporation.  Intel, the Intel logo, and other Intel marks are trademarks of Intel Corporation or its subsidiaries.  Other names and brands may be claimed as the property of others.  "
   ]
  }
 ],
 "metadata": {
  "kernelspec": {
   "display_name": "Python 3 (ipykernel)",
   "language": "python",
   "name": "python3"
  },
  "language_info": {
   "codemirror_mode": {
    "name": "ipython",
    "version": 3
   },
   "file_extension": ".py",
   "mimetype": "text/x-python",
   "name": "python",
   "nbconvert_exporter": "python",
   "pygments_lexer": "ipython3",
   "version": "3.10.12"
  }
 },
 "nbformat": 4,
 "nbformat_minor": 4
}
