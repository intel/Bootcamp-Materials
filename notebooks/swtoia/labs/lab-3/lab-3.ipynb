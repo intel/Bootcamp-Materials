{
 "cells": [
  {
   "cell_type": "markdown",
   "metadata": {},
   "source": [
    "## **Lab 3**\n",
    "\n",
    "### **Overview**\n",
    "\n",
    "This workshop demonstrates converting CUDA samples to SYCL C++ program using SYCLomatic tool and compilation of the SYCL programs using \n",
    "Intel® oneAPI DPC++/C++ Compiler.\n",
    "\n",
    "You will learn about the state of the supported CUDA to SYCL C++ conversion."
   ]
  },
  {
   "cell_type": "markdown",
   "metadata": {},
   "source": [
    "### **Overview of CUDA Libraries**\n",
    "\n",
    "NVIDIA provides a layer on top of the CUDA platform called CUDA-X , which is a collection of libraries, tools, and technologies. \n",
    "\n",
    "GPU-accelerated CUDA libraries enable drop-in acceleration across multiple domains such as linear algebra, image and video processing, deep learning, and graph analytics.\n",
    "\n",
    "NVIDIA CUDA toolkit provides a collection of libaries:\n",
    "* Math libaries: cuBLAS, cuRAND, cuFFT\n",
    "* Parallel Algorithm libraries: nvGRAPH, Thrust\n",
    "* Image and video libraries: nvJPEG, NPP\n",
    "* Communication libraries: NVSHMEM, NCCL\n",
    "* Deep Learning libraries: cuDNN, TensorRT, Riva\n",
    "\n",
    "### **CUDA API Migration Support Status and oneAPI API-Based Programming**\n",
    "\n",
    "CUDA API migration support can be found in https://www.intel.com/content/www/us/en/docs/dpcpp-compatibility-tool/developer-guide-reference/2023-2/cuda-api-migration-support-status.html \n",
    "\n",
    "Before starting out a migration, it is important to learn about the software libraries dependency of the CUDA program. If a CUDA program uses higher level CUDA-based library or using CUDA Graphs technologies that coordinate large number of GPU operations, SYCLomatic tool would not be able to do the job as it is designed to take care of foundational CUDA libaries migration.\n",
    "\n",
    "This is also the reason, oneAPI offers two software programming modes:\n",
    "* **Direct Programming** - at SYCL C++ level.\n",
    "* **API-Based Programming**  - a collection of oneAPI libraries that are comparable to the set of CUDA foundational libraries.\n",
    "\n",
    "![oneAPI Programming Modes](./images/oneAPI-libraries.jpg)\n",
    "\n",
    "### **Brief Summary**\n",
    "* Converting CUDA program that uses foundational libraries can be accelerated by SYCLomatic tool\n",
    "* If CUDA program uses high level CUDA-based libraries, use oneAPI API-Based libraries as they would yield faster migration.\n",
    "  If your program requires specialized device/kernel code, write them in SYCL C++ directly."
   ]
  },
  {
   "cell_type": "markdown",
   "metadata": {},
   "source": [
    "### **Exercise**"
   ]
  },
  {
   "cell_type": "markdown",
   "metadata": {},
   "source": [
    "#### 1) Git clone CUDA Samples"
   ]
  },
  {
   "cell_type": "code",
   "execution_count": null,
   "metadata": {
    "vscode": {
     "languageId": "plaintext"
    }
   },
   "outputs": [],
   "source": [
    "# Note: we have ahead of time git clone cuda-sampels\n",
    "! [ ! -d /app/notebooks/cuda-samples ] && git clone https://github.com/NVIDIA/cuda-samples.git /app/notebooks/cuda-samples"
   ]
  },
  {
   "cell_type": "markdown",
   "metadata": {},
   "source": [
    "#### 2) Make a copy of CUDA sample 'jacobiCudaGraphs' inside lab-3"
   ]
  },
  {
   "cell_type": "code",
   "execution_count": null,
   "metadata": {
    "vscode": {
     "languageId": "plaintext"
    }
   },
   "outputs": [],
   "source": [
    "# Make a fresh copy of CUDA 'jacobiCudaGraphs' sample\n",
    "! [ -d cuda-samples ] && rm -rf cuda-samples\n",
    "! mkdir -p cuda-samples/Samples/3_CUDA_Features\n",
    "! cp -rf /app/notebooks/cuda-samples/Common cuda-samples/\n",
    "! cp -rf /app/notebooks/cuda-samples/Samples/3_CUDA_Features/jacobiCudaGraphs/  cuda-samples/Samples/3_CUDA_Features/"
   ]
  },
  {
   "cell_type": "markdown",
   "metadata": {},
   "source": [
    "**Information:**\n",
    "* cuda-samples/Common - CUDA helper header\n",
    "* jacobiCudaGraphs - a CUDA sample that uses CUDA Graphs also CUDA foundational libraries"
   ]
  },
  {
   "cell_type": "markdown",
   "metadata": {},
   "source": [
    "#### 3) Use intercept-build to obtain CUDA sample project compilation dependency\n",
    "\n",
    "**Note:** \n",
    "* Jupyter Notebook shell command execution (! \\<bash command\\>) is executed as single sub-process and the process state does not persist to the next ! \\<bash command \\>.\n",
    "* For the sake of convenience of labwork, we use '&&' to perform the task on a specific location."
   ]
  },
  {
   "cell_type": "code",
   "execution_count": null,
   "metadata": {
    "vscode": {
     "languageId": "plaintext"
    }
   },
   "outputs": [],
   "source": [
    "! cd cuda-samples/Samples/3_CUDA_Features/jacobiCudaGraphs/ && make clean\n",
    "! cd cuda-samples/Samples/3_CUDA_Features/jacobiCudaGraphs/ && intercept-build make"
   ]
  },
  {
   "cell_type": "code",
   "execution_count": null,
   "metadata": {
    "vscode": {
     "languageId": "plaintext"
    }
   },
   "outputs": [],
   "source": [
    "! cd cuda-samples/Samples/3_CUDA_Features/jacobiCudaGraphs/ && cat compile_commands.json"
   ]
  },
  {
   "cell_type": "markdown",
   "metadata": {},
   "source": [
    "**Information:**\n",
    "* compile_commands.json - contains CUDA compilation information. \n",
    "* nvcc - CUDA compiler compiles both jacobi.cu (GPU/device code) and main.cpp (Host/CPU code)\n",
    "* The compiled binaries are then linked to produce \"jacobiCudaGraphs\" executable."
   ]
  },
  {
   "cell_type": "markdown",
   "metadata": {},
   "source": [
    "#### 4) Use SYCLomatics tool to convert CUDA code to SYCL C++"
   ]
  },
  {
   "cell_type": "code",
   "execution_count": null,
   "metadata": {
    "vscode": {
     "languageId": "plaintext"
    }
   },
   "outputs": [],
   "source": [
    "# If sycl_output exists, we delete it for a fresh 'sycl_output' SYCL conversion\n",
    "! [ -d cuda-samples/Samples/3_CUDA_Features/jacobiCudaGraphs/sycl_output ] && rm -rf cuda-samples/Samples/3_CUDA_Features/jacobiCudaGraphs/sycl_output\n",
    "! cd cuda-samples/Samples/3_CUDA_Features/jacobiCudaGraphs/ && c2s -p compile_commands.json --in-root ../../.. --gen-helper-function --use-experimental-features=logical-group --cuda-include-path=/usr/local/cuda-12.1/include --out-root=sycl_output "
   ]
  },
  {
   "cell_type": "markdown",
   "metadata": {},
   "source": [
    "**Information:**\n",
    "* --in-root ../../../ : specify path for all common include files for CUDA sample project, i.e. cuda-samples/\n",
    "* --gen-helper-function : Generate SYCLomatic helper header files to output\n",
    "* --use-experimental-features=logical-group : Use experimental c2s feature to convert CUDA cooperative group.\n",
    "* --cuda-include-path=<path to CUDA include> : Specify the CUDA include header path.\n",
    "* --out-root=<SYCL output directory> : Specify the SYCL code output\n",
    "\n",
    "**Note:**\n",
    "* oneAPI Base Toolkit version 2023.02 supports CUDA Toolkit version 12.1."
   ]
  },
  {
   "cell_type": "markdown",
   "metadata": {},
   "source": [
    "#### 5) Review the SYCL output "
   ]
  },
  {
   "cell_type": "code",
   "execution_count": null,
   "metadata": {
    "vscode": {
     "languageId": "plaintext"
    }
   },
   "outputs": [],
   "source": [
    "! cd cuda-samples/Samples/3_CUDA_Features/jacobiCudaGraphs/ && tree sycl_output"
   ]
  },
  {
   "cell_type": "markdown",
   "metadata": {},
   "source": [
    "**Information:**\n",
    "* MainSourceFile.yaml : CUDA to SYCL conversion log\n",
    "* Common/ : CUDA libary from cuda-samples\n",
    "* include/ : SYCLomatic helpder header\n",
    "* Samples/3_CUDA_Features/jacobiCudaGraphs - the SYCL C++ code  "
   ]
  },
  {
   "cell_type": "code",
   "execution_count": null,
   "metadata": {
    "vscode": {
     "languageId": "plaintext"
    }
   },
   "outputs": [],
   "source": [
    "# Check the converted CUDA converted code (jacobi.dp.cpp) \n",
    "! cd cuda-samples/Samples/3_CUDA_Features/jacobiCudaGraphs/ && cat sycl_output/Samples/3_CUDA_Features/jacobiCudaGraphs/jacobi.dp.cpp"
   ]
  },
  {
   "cell_type": "code",
   "execution_count": null,
   "metadata": {
    "vscode": {
     "languageId": "plaintext"
    }
   },
   "outputs": [],
   "source": [
    "# Check the converted CUDA converted code (main.cpp.dp.cpp) \n",
    "! cd cuda-samples/Samples/3_CUDA_Features/jacobiCudaGraphs/ && cat sycl_output/Samples/3_CUDA_Features/jacobiCudaGraphs/main.cpp.dp.cpp"
   ]
  },
  {
   "cell_type": "markdown",
   "metadata": {},
   "source": [
    "#### 6) Compile SYCL code using DPC++ compiler"
   ]
  },
  {
   "cell_type": "code",
   "execution_count": null,
   "metadata": {
    "vscode": {
     "languageId": "plaintext"
    }
   },
   "outputs": [],
   "source": [
    "! cd cuda-samples/Samples/3_CUDA_Features/jacobiCudaGraphs/sycl_output/Samples/3_CUDA_Features/jacobiCudaGraphs/ && icpx -fsycl -I ../../../Common -I ../../../include *.cpp -o jacob_prog"
   ]
  },
  {
   "cell_type": "markdown",
   "metadata": {},
   "source": [
    "#### 7) Fix SYCL compilation issue by commenting out CUDA Graphs code\n",
    "\n",
    "As expected **CUDA Graphs functions** used in 'jacobiCudaGraphs' sample is **not supported by SYCLomatic tool** and compiling the SYCL C++ code produces above errors.\n",
    "We are going to fix the compilation errors by commenting out **(#if 0 .... #endif)** the code sections in both **main.cpp.dp.cpp** and **jacobi.dp.cpp** as shown below:\n",
    "\n",
    "**main.cpp.dp.cpp**\n",
    "\n",
    "![lab-3-main-fix](./images/lab-3-main-fix.jpg)\n",
    "\n",
    "**jacobi.dp.cpp**\n",
    "\n",
    "![lab-3-jacob-fix-1](./images/lab-3-jacob-fix-1.jpg)\n",
    "\n",
    "![lab-3-jacob-fix-2](./images/lab-3-jacob-fix-2.jpg)\n",
    "\n",
    "**Note:** Add a DEBUG print just before Floating Point 64 capability check\n",
    "\n",
    "![lab-3-jacob-fix-3](./images/lab-3-jacob-fix-3.jpg)"
   ]
  },
  {
   "cell_type": "code",
   "execution_count": null,
   "metadata": {
    "vscode": {
     "languageId": "plaintext"
    }
   },
   "outputs": [],
   "source": [
    "# Check the patched main.cpp.dp.cpp\n",
    "! cat cuda-samples/Samples/3_CUDA_Features/jacobiCudaGraphs/sycl_output/Samples/3_CUDA_Features/jacobiCudaGraphs/main.cpp.dp.cpp"
   ]
  },
  {
   "cell_type": "code",
   "execution_count": null,
   "metadata": {
    "vscode": {
     "languageId": "plaintext"
    }
   },
   "outputs": [],
   "source": [
    "# Check the patched jacobi.dp.cpp\n",
    "! cat cuda-samples/Samples/3_CUDA_Features/jacobiCudaGraphs/sycl_output/Samples/3_CUDA_Features/jacobiCudaGraphs/jacobi.dp.cpp"
   ]
  },
  {
   "cell_type": "markdown",
   "metadata": {},
   "source": [
    "#### 8) Recompile the Jacobi SYCL program"
   ]
  },
  {
   "cell_type": "code",
   "execution_count": null,
   "metadata": {
    "vscode": {
     "languageId": "plaintext"
    }
   },
   "outputs": [],
   "source": [
    "! cd cuda-samples/Samples/3_CUDA_Features/jacobiCudaGraphs/sycl_output/Samples/3_CUDA_Features/jacobiCudaGraphs/ && icpx -fsycl -I ../../../Common -I ../../../include *.cpp -o jacob_prog"
   ]
  },
  {
   "cell_type": "code",
   "execution_count": null,
   "metadata": {
    "vscode": {
     "languageId": "plaintext"
    }
   },
   "outputs": [],
   "source": [
    "# Check jacob_prog executable file information\n",
    "! file cuda-samples/Samples/3_CUDA_Features/jacobiCudaGraphs/sycl_output/Samples/3_CUDA_Features/jacobiCudaGraphs/jacob_prog"
   ]
  },
  {
   "cell_type": "markdown",
   "metadata": {},
   "source": [
    "#### 9) Run the Jacobi SYCL program"
   ]
  },
  {
   "cell_type": "code",
   "execution_count": null,
   "metadata": {
    "vscode": {
     "languageId": "plaintext"
    }
   },
   "outputs": [],
   "source": [
    "! cd cuda-samples/Samples/3_CUDA_Features/jacobiCudaGraphs/sycl_output/Samples/3_CUDA_Features/jacobiCudaGraphs/ && ./jacob_prog"
   ]
  },
  {
   "cell_type": "markdown",
   "metadata": {},
   "source": [
    "**Information:** \n",
    "* The SYCL Jacobi program exits pre-maturely at the Float Point 64-bit capability check (**dpct::has_capability_or_fail(stream->get_device(), {sycl::aspect::fp64})**).\n",
    "* dpct::has_capability_or_fail() is provided by SYCLomatic helper header.\n",
    "* https://www.intel.com/content/www/us/en/docs/oneapi/optimization-guide-gpu/2023-2/intel-xe-gpu-architecture.html - Intel Xe GPU architecture web page states that FP64 is supported by Intel® Xe-HPC Data Center GPU Max Series currently."
   ]
  },
  {
   "cell_type": "markdown",
   "metadata": {},
   "source": [
    "### **Conclusion:**\n",
    "\n",
    "* SYCLomatic tool is designed to accelerate CUDA to SYCL C++ conversion and it is not meant to perform full conversion.\n",
    "* CUDA program may use CUDA libraries that are not supported by SYCLomatic tool.\n",
    "* MainSourceFiles.yaml contains details of CUDA to SYCL C++ conversion.\n",
    "* SYCLomatic tool generates helper header (namespace dpct) as part of the CUDA to SYCL migration."
   ]
  },
  {
   "cell_type": "markdown",
   "metadata": {},
   "source": [
    "**Notices & Disclaimers** \n",
    "\n",
    "Intel technologies may require enabled hardware, software or service activation. \n",
    "\n",
    "No product or component can be absolutely secure.  \n",
    "\n",
    "Your costs and results may vary.  \n",
    "\n",
    "No license (express or implied, by estoppel or otherwise) to any intellectual property rights is granted by this document, with the sole exception that code included in this document is licensed subject to the Zero-Clause BSD open source license (0BSD), [Open Source Initiative](https://opensource.org/licenses/0BSD). No rights are granted to create modifications or derivatives of this document. \n",
    "\n",
    "© Intel Corporation.  Intel, the Intel logo, and other Intel marks are trademarks of Intel Corporation or its subsidiaries.  Other names and brands may be claimed as the property of others.  "
   ]
  }
 ],
 "metadata": {
  "kernelspec": {
   "display_name": "Python 3 (ipykernel)",
   "language": "python",
   "name": "python3"
  },
  "language_info": {
   "codemirror_mode": {
    "name": "ipython",
    "version": 3
   },
   "file_extension": ".py",
   "mimetype": "text/x-python",
   "name": "python",
   "nbconvert_exporter": "python",
   "pygments_lexer": "ipython3",
   "version": "3.10.12"
  }
 },
 "nbformat": 4,
 "nbformat_minor": 4
}
